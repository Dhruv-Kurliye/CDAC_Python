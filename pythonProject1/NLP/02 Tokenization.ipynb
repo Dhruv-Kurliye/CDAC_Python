{
 "cells": [
  {
   "cell_type": "code",
   "execution_count": 1,
   "metadata": {},
   "outputs": [],
   "source": [
    "#install nltk and other libraries"
   ]
  },
  {
   "cell_type": "code",
   "execution_count": 2,
   "metadata": {},
   "outputs": [],
   "source": [
    "# pip install nltk spacy textblob -U"
   ]
  },
  {
   "cell_type": "code",
   "execution_count": 3,
   "metadata": {},
   "outputs": [],
   "source": [
    "# pip uninstall numpy"
   ]
  },
  {
   "cell_type": "code",
   "execution_count": 4,
   "metadata": {},
   "outputs": [],
   "source": [
    "# pip install numpy == 1.26.4"
   ]
  },
  {
   "cell_type": "code",
   "execution_count": 1,
   "metadata": {},
   "outputs": [
    {
     "ename": "ModuleNotFoundError",
     "evalue": "No module named 'nltk'",
     "output_type": "error",
     "traceback": [
      "\u001b[1;31m---------------------------------------------------------------------------\u001b[0m",
      "\u001b[1;31mModuleNotFoundError\u001b[0m                       Traceback (most recent call last)",
      "Cell \u001b[1;32mIn[1], line 1\u001b[0m\n\u001b[1;32m----> 1\u001b[0m \u001b[38;5;28;01mimport\u001b[39;00m \u001b[38;5;21;01mnltk\u001b[39;00m\n",
      "\u001b[1;31mModuleNotFoundError\u001b[0m: No module named 'nltk'"
     ]
    }
   ],
   "source": [
    "import nltk"
   ]
  },
  {
   "cell_type": "code",
   "execution_count": null,
   "metadata": {},
   "outputs": [],
   "source": []
  },
  {
   "cell_type": "code",
   "execution_count": null,
   "metadata": {},
   "outputs": [],
   "source": [
    "# nltk.download('punkt')\n",
    "# nltk.download('stopwords')\n",
    "# nltk.download('wordnet')\n",
    "# nltk.download('omw-1.4')\n",
    "# nltk.download('averaged_perceptron_tagger')\n",
    "# nltk.download('indian')\n",
    "# nltk.download('maxent_ne_chunker')"
   ]
  },
  {
   "cell_type": "markdown",
   "metadata": {},
   "source": [
    "### Word Tokenization"
   ]
  },
  {
   "cell_type": "code",
   "execution_count": null,
   "metadata": {},
   "outputs": [],
   "source": [
    "sent = 'They told that their ages are 25 26 and 31 respectively.'"
   ]
  },
  {
   "cell_type": "code",
   "execution_count": null,
   "metadata": {},
   "outputs": [
    {
     "data": {
      "text/plain": [
       "['They',\n",
       " 'told',\n",
       " 'that',\n",
       " 'their',\n",
       " 'ages',\n",
       " 'are',\n",
       " '25',\n",
       " '26',\n",
       " 'and',\n",
       " '31',\n",
       " 'respectively.']"
      ]
     },
     "execution_count": 8,
     "metadata": {},
     "output_type": "execute_result"
    }
   ],
   "source": [
    "sent.split()"
   ]
  },
  {
   "cell_type": "code",
   "execution_count": null,
   "metadata": {},
   "outputs": [],
   "source": [
    "from nltk.tokenize import word_tokenize"
   ]
  },
  {
   "cell_type": "code",
   "execution_count": null,
   "metadata": {},
   "outputs": [
    {
     "data": {
      "text/plain": [
       "['They',\n",
       " 'told',\n",
       " 'that',\n",
       " 'their',\n",
       " 'ages',\n",
       " 'are',\n",
       " '25',\n",
       " '26',\n",
       " 'and',\n",
       " '31',\n",
       " 'respectively',\n",
       " '.']"
      ]
     },
     "execution_count": 10,
     "metadata": {},
     "output_type": "execute_result"
    }
   ],
   "source": [
    "word_tokenize(sent)"
   ]
  },
  {
   "cell_type": "code",
   "execution_count": null,
   "metadata": {},
   "outputs": [],
   "source": [
    "sent = 'Dr. Deshmukh told me about this.'"
   ]
  },
  {
   "cell_type": "code",
   "execution_count": null,
   "metadata": {},
   "outputs": [
    {
     "data": {
      "text/plain": [
       "['Dr.', 'Deshmukh', 'told', 'me', 'about', 'this', '.']"
      ]
     },
     "execution_count": 12,
     "metadata": {},
     "output_type": "execute_result"
    }
   ],
   "source": [
    "word_tokenize(sent)"
   ]
  },
  {
   "cell_type": "code",
   "execution_count": null,
   "metadata": {},
   "outputs": [],
   "source": [
    "sent ='''Hello friends!\n",
    "How are you? Welcome to the world of Python Programming.'''"
   ]
  },
  {
   "cell_type": "markdown",
   "metadata": {},
   "source": [
    "### Count percentage of punctuation in it"
   ]
  },
  {
   "cell_type": "code",
   "execution_count": null,
   "metadata": {},
   "outputs": [],
   "source": [
    "list = word_tokenize(sent)\n",
    "punc=['!','?','.']"
   ]
  },
  {
   "cell_type": "code",
   "execution_count": null,
   "metadata": {},
   "outputs": [],
   "source": [
    "sum=0\n",
    "for i in list:\n",
    "    if i in punc:\n",
    "        sum+=1\n",
    "percentage=(sum/len(list))*100        "
   ]
  },
  {
   "cell_type": "code",
   "execution_count": null,
   "metadata": {},
   "outputs": [
    {
     "data": {
      "text/plain": [
       "20.0"
      ]
     },
     "execution_count": 16,
     "metadata": {},
     "output_type": "execute_result"
    }
   ],
   "source": [
    "percentage"
   ]
  },
  {
   "cell_type": "markdown",
   "metadata": {},
   "source": [
    "##### 2nd method using comprehension and isalpha() & isdigit()"
   ]
  },
  {
   "cell_type": "code",
   "execution_count": null,
   "metadata": {},
   "outputs": [],
   "source": [
    "count = [word for word in list if not word.isalpha() and not word.isdigit()]"
   ]
  },
  {
   "cell_type": "code",
   "execution_count": null,
   "metadata": {},
   "outputs": [
    {
     "data": {
      "text/plain": [
       "20.0"
      ]
     },
     "execution_count": 18,
     "metadata": {},
     "output_type": "execute_result"
    }
   ],
   "source": [
    "len(count)/len(list) * 100"
   ]
  },
  {
   "cell_type": "code",
   "execution_count": null,
   "metadata": {},
   "outputs": [],
   "source": [
    "sents = '''प्रकृति की सुंदरता न केवल इसके विशाल दृश्यों में, बल्कि उन छोटे-छोटे विवरणों में भी है, जिन्हें हम अक्सर नजरअंदाज कर देते हैं। हवा में पत्तों की हल्की सरसराहट से लेकर सूर्यास्त के चमकदार, जीवंत रंगों तक, प्रकृति हमें शांति और आश्चर्य का अहसास कराती है, जिसे अनगिनत तरीकों से महसूस किया जा सकता है।\n",
    "\n",
    "सदियों से, मनुष्यों ने प्राकृतिक वातावरण में शरण ली है, यहाँ उन्हें सरलता और शांति मिलती है। चाहे वह समुद्र के किनारे लहरों की आवाज हो, बारिश के बाद ताजे चीड़ों की खुशबू हो, या रात के आकाश में twinkling तारे हों, प्रकृति हमें संतुलित करती है, यह हमें हमारे रोज़मर्रा के तनाव और व्यस्तताओं से बाहर की दुनिया की याद दिलाती है।\n",
    "\n",
    "आज के तेज़-तर्रार जीवन में, यह भूल जाना आसान है कि हमें प्रकृति से जुड़ने का कितना महत्व है। हालांकि, अनुसंधान ने यह साबित किया है कि बाहर समय बिताने के कई लाभ हैं, जिनमें तनाव कम करना और मानसिक स्वास्थ्य को बढ़ावा देना शामिल है। चाहे वह जंगल में सैर हो, पहाड़ों पर चढ़ाई हो, या बस बगिया में बैठना हो, हमें प्राकृतिक दुनिया की सराहना करने का समय निकालना चाहिए। यह हमें यह याद दिलाता है कि आधुनिक जीवन की जटिलताओं के बावजूद, हमारे चारों ओर की दुनिया में सरलता और सुंदरता है।'''"
   ]
  },
  {
   "cell_type": "code",
   "execution_count": null,
   "metadata": {},
   "outputs": [
    {
     "data": {
      "text/plain": [
       "'प्रकृति की सुंदरता न केवल इसके विशाल दृश्यों में, बल्कि उन छोटे-छोटे विवरणों में भी है, जिन्हें हम अक्सर नजरअंदाज कर देते हैं। हवा में पत्तों की हल्की सरसराहट से लेकर सूर्यास्त के चमकदार, जीवंत रंगों तक, प्रकृति हमें शांति और आश्चर्य का अहसास कराती है, जिसे अनगिनत तरीकों से महसूस किया जा सकता है।\\n\\nसदियों से, मनुष्यों ने प्राकृतिक वातावरण में शरण ली है, यहाँ उन्हें सरलता और शांति मिलती है। चाहे वह समुद्र के किनारे लहरों की आवाज हो, बारिश के बाद ताजे चीड़ों की खुशबू हो, या रात के आकाश में twinkling तारे हों, प्रकृति हमें संतुलित करती है, यह हमें हमारे रोज़मर्रा के तनाव और व्यस्तताओं से बाहर की दुनिया की याद दिलाती है।\\n\\nआज के तेज़-तर्रार जीवन में, यह भूल जाना आसान है कि हमें प्रकृति से जुड़ने का कितना महत्व है। हालांकि, अनुसंधान ने यह साबित किया है कि बाहर समय बिताने के कई लाभ हैं, जिनमें तनाव कम करना और मानसिक स्वास्थ्य को बढ़ावा देना शामिल है। चाहे वह जंगल में सैर हो, पहाड़ों पर चढ़ाई हो, या बस बगिया में बैठना हो, हमें प्राकृतिक दुनिया की सराहना करने का समय निकालना चाहिए। यह हमें यह याद दिलाता है कि आधुनिक जीवन की जटिलताओं के बावजूद, हमारे चारों ओर की दुनिया में सरलता और सुंदरता है।'"
      ]
     },
     "execution_count": 28,
     "metadata": {},
     "output_type": "execute_result"
    }
   ],
   "source": [
    "sents"
   ]
  },
  {
   "cell_type": "code",
   "execution_count": null,
   "metadata": {},
   "outputs": [],
   "source": [
    "tokens = word_tokenize(sents)"
   ]
  },
  {
   "cell_type": "code",
   "execution_count": null,
   "metadata": {},
   "outputs": [
    {
     "data": {
      "text/plain": [
       "['प्रकृति',\n",
       " 'की',\n",
       " 'सुंदरता',\n",
       " 'न',\n",
       " 'केवल',\n",
       " 'इसके',\n",
       " 'विशाल',\n",
       " 'दृश्यों',\n",
       " 'में',\n",
       " ',',\n",
       " 'बल्कि',\n",
       " 'उन',\n",
       " 'छोटे-छोटे',\n",
       " 'विवरणों',\n",
       " 'में',\n",
       " 'भी',\n",
       " 'है',\n",
       " ',',\n",
       " 'जिन्हें',\n",
       " 'हम',\n",
       " 'अक्सर',\n",
       " 'नजरअंदाज',\n",
       " 'कर',\n",
       " 'देते',\n",
       " 'हैं।',\n",
       " 'हवा',\n",
       " 'में',\n",
       " 'पत्तों',\n",
       " 'की',\n",
       " 'हल्की',\n",
       " 'सरसराहट',\n",
       " 'से',\n",
       " 'लेकर',\n",
       " 'सूर्यास्त',\n",
       " 'के',\n",
       " 'चमकदार',\n",
       " ',',\n",
       " 'जीवंत',\n",
       " 'रंगों',\n",
       " 'तक',\n",
       " ',',\n",
       " 'प्रकृति',\n",
       " 'हमें',\n",
       " 'शांति',\n",
       " 'और',\n",
       " 'आश्चर्य',\n",
       " 'का',\n",
       " 'अहसास',\n",
       " 'कराती',\n",
       " 'है',\n",
       " ',',\n",
       " 'जिसे',\n",
       " 'अनगिनत',\n",
       " 'तरीकों',\n",
       " 'से',\n",
       " 'महसूस',\n",
       " 'किया',\n",
       " 'जा',\n",
       " 'सकता',\n",
       " 'है।',\n",
       " 'सदियों',\n",
       " 'से',\n",
       " ',',\n",
       " 'मनुष्यों',\n",
       " 'ने',\n",
       " 'प्राकृतिक',\n",
       " 'वातावरण',\n",
       " 'में',\n",
       " 'शरण',\n",
       " 'ली',\n",
       " 'है',\n",
       " ',',\n",
       " 'यहाँ',\n",
       " 'उन्हें',\n",
       " 'सरलता',\n",
       " 'और',\n",
       " 'शांति',\n",
       " 'मिलती',\n",
       " 'है।',\n",
       " 'चाहे',\n",
       " 'वह',\n",
       " 'समुद्र',\n",
       " 'के',\n",
       " 'किनारे',\n",
       " 'लहरों',\n",
       " 'की',\n",
       " 'आवाज',\n",
       " 'हो',\n",
       " ',',\n",
       " 'बारिश',\n",
       " 'के',\n",
       " 'बाद',\n",
       " 'ताजे',\n",
       " 'चीड़ों',\n",
       " 'की',\n",
       " 'खुशबू',\n",
       " 'हो',\n",
       " ',',\n",
       " 'या',\n",
       " 'रात',\n",
       " 'के',\n",
       " 'आकाश',\n",
       " 'में',\n",
       " 'twinkling',\n",
       " 'तारे',\n",
       " 'हों',\n",
       " ',',\n",
       " 'प्रकृति',\n",
       " 'हमें',\n",
       " 'संतुलित',\n",
       " 'करती',\n",
       " 'है',\n",
       " ',',\n",
       " 'यह',\n",
       " 'हमें',\n",
       " 'हमारे',\n",
       " 'रोज़मर्रा',\n",
       " 'के',\n",
       " 'तनाव',\n",
       " 'और',\n",
       " 'व्यस्तताओं',\n",
       " 'से',\n",
       " 'बाहर',\n",
       " 'की',\n",
       " 'दुनिया',\n",
       " 'की',\n",
       " 'याद',\n",
       " 'दिलाती',\n",
       " 'है।',\n",
       " 'आज',\n",
       " 'के',\n",
       " 'तेज़-तर्रार',\n",
       " 'जीवन',\n",
       " 'में',\n",
       " ',',\n",
       " 'यह',\n",
       " 'भूल',\n",
       " 'जाना',\n",
       " 'आसान',\n",
       " 'है',\n",
       " 'कि',\n",
       " 'हमें',\n",
       " 'प्रकृति',\n",
       " 'से',\n",
       " 'जुड़ने',\n",
       " 'का',\n",
       " 'कितना',\n",
       " 'महत्व',\n",
       " 'है।',\n",
       " 'हालांकि',\n",
       " ',',\n",
       " 'अनुसंधान',\n",
       " 'ने',\n",
       " 'यह',\n",
       " 'साबित',\n",
       " 'किया',\n",
       " 'है',\n",
       " 'कि',\n",
       " 'बाहर',\n",
       " 'समय',\n",
       " 'बिताने',\n",
       " 'के',\n",
       " 'कई',\n",
       " 'लाभ',\n",
       " 'हैं',\n",
       " ',',\n",
       " 'जिनमें',\n",
       " 'तनाव',\n",
       " 'कम',\n",
       " 'करना',\n",
       " 'और',\n",
       " 'मानसिक',\n",
       " 'स्वास्थ्य',\n",
       " 'को',\n",
       " 'बढ़ावा',\n",
       " 'देना',\n",
       " 'शामिल',\n",
       " 'है।',\n",
       " 'चाहे',\n",
       " 'वह',\n",
       " 'जंगल',\n",
       " 'में',\n",
       " 'सैर',\n",
       " 'हो',\n",
       " ',',\n",
       " 'पहाड़ों',\n",
       " 'पर',\n",
       " 'चढ़ाई',\n",
       " 'हो',\n",
       " ',',\n",
       " 'या',\n",
       " 'बस',\n",
       " 'बगिया',\n",
       " 'में',\n",
       " 'बैठना',\n",
       " 'हो',\n",
       " ',',\n",
       " 'हमें',\n",
       " 'प्राकृतिक',\n",
       " 'दुनिया',\n",
       " 'की',\n",
       " 'सराहना',\n",
       " 'करने',\n",
       " 'का',\n",
       " 'समय',\n",
       " 'निकालना',\n",
       " 'चाहिए।',\n",
       " 'यह',\n",
       " 'हमें',\n",
       " 'यह',\n",
       " 'याद',\n",
       " 'दिलाता',\n",
       " 'है',\n",
       " 'कि',\n",
       " 'आधुनिक',\n",
       " 'जीवन',\n",
       " 'की',\n",
       " 'जटिलताओं',\n",
       " 'के',\n",
       " 'बावजूद',\n",
       " ',',\n",
       " 'हमारे',\n",
       " 'चारों',\n",
       " 'ओर',\n",
       " 'की',\n",
       " 'दुनिया',\n",
       " 'में',\n",
       " 'सरलता',\n",
       " 'और',\n",
       " 'सुंदरता',\n",
       " 'है।']"
      ]
     },
     "execution_count": 30,
     "metadata": {},
     "output_type": "execute_result"
    }
   ],
   "source": [
    "tokens"
   ]
  },
  {
   "cell_type": "markdown",
   "metadata": {},
   "source": [
    "### Sentence Tokenizer"
   ]
  },
  {
   "cell_type": "code",
   "execution_count": null,
   "metadata": {},
   "outputs": [],
   "source": [
    "from nltk.tokenize import sent_tokenize"
   ]
  },
  {
   "cell_type": "code",
   "execution_count": null,
   "metadata": {},
   "outputs": [],
   "source": [
    "text = '''Hello friends!\n",
    "How are you? Welcome to the world of Python Programming'''"
   ]
  },
  {
   "cell_type": "code",
   "execution_count": null,
   "metadata": {},
   "outputs": [
    {
     "data": {
      "text/plain": [
       "['Hello friends!',\n",
       " 'How are you?',\n",
       " 'Welcome to the world of Python Programming']"
      ]
     },
     "execution_count": 33,
     "metadata": {},
     "output_type": "execute_result"
    }
   ],
   "source": [
    "sent_tokenize(text)"
   ]
  },
  {
   "cell_type": "code",
   "execution_count": null,
   "metadata": {},
   "outputs": [
    {
     "data": {
      "text/plain": [
       "['प्रकृति की सुंदरता न केवल इसके विशाल दृश्यों में, बल्कि उन छोटे-छोटे विवरणों में भी है, जिन्हें हम अक्सर नजरअंदाज कर देते हैं। हवा में पत्तों की हल्की सरसराहट से लेकर सूर्यास्त के चमकदार, जीवंत रंगों तक, प्रकृति हमें शांति और आश्चर्य का अहसास कराती है, जिसे अनगिनत तरीकों से महसूस किया जा सकता है।\\n\\nसदियों से, मनुष्यों ने प्राकृतिक वातावरण में शरण ली है, यहाँ उन्हें सरलता और शांति मिलती है। चाहे वह समुद्र के किनारे लहरों की आवाज हो, बारिश के बाद ताजे चीड़ों की खुशबू हो, या रात के आकाश में twinkling तारे हों, प्रकृति हमें संतुलित करती है, यह हमें हमारे रोज़मर्रा के तनाव और व्यस्तताओं से बाहर की दुनिया की याद दिलाती है।\\n\\nआज के तेज़-तर्रार जीवन में, यह भूल जाना आसान है कि हमें प्रकृति से जुड़ने का कितना महत्व है। हालांकि, अनुसंधान ने यह साबित किया है कि बाहर समय बिताने के कई लाभ हैं, जिनमें तनाव कम करना और मानसिक स्वास्थ्य को बढ़ावा देना शामिल है। चाहे वह जंगल में सैर हो, पहाड़ों पर चढ़ाई हो, या बस बगिया में बैठना हो, हमें प्राकृतिक दुनिया की सराहना करने का समय निकालना चाहिए। यह हमें यह याद दिलाता है कि आधुनिक जीवन की जटिलताओं के बावजूद, हमारे चारों ओर की दुनिया में सरलता और सुंदरता है।']"
      ]
     },
     "execution_count": 34,
     "metadata": {},
     "output_type": "execute_result"
    }
   ],
   "source": [
    "sent_tokenize(sents)"
   ]
  },
  {
   "cell_type": "code",
   "execution_count": null,
   "metadata": {},
   "outputs": [],
   "source": [
    "India = '''India, officially the Republic of India,[j][20] is a country in South Asia. It is the seventh-largest country in the world by area and the most populous country. Bounded by the Indian Ocean on the south, the Arabian Sea on the southwest, and the Bay of Bengal on the southeast, it shares land borders with Pakistan to the west;[k] China, Nepal, and Bhutan to the north; and Bangladesh and Myanmar to the east. In the Indian Ocean, India is in the vicinity of Sri Lanka and the Maldives; its Andaman and Nicobar Islands share a maritime border with Thailand, Myanmar, and Indonesia.\n",
    "\n",
    "Modern humans arrived on the Indian subcontinent from Africa no later than 55,000 years ago.[22][23][24] Their long occupation, initially in varying forms of isolation as hunter-gatherers, has made the region highly diverse, second only to Africa in human genetic diversity.[25] Settled life emerged on the subcontinent in the western margins of the Indus river basin 9,000 years ago, evolving gradually into the Indus Valley Civilisation of the third millennium BCE.[26] By at least 1200 BCE, an archaic form of Sanskrit, an Indo-European language, had diffused into India from the northwest.[27][28] Its evidence today is found in the hymns of the Rigveda. Preserved by an oral tradition that was resolutely vigilant, the Rigveda records the dawning of Hinduism in India.[29] The Dravidian languages of India were supplanted in the northern and western regions.[30] By 400 BCE, stratification and exclusion by caste had emerged within Hinduism,[31] and Buddhism and Jainism had arisen, proclaiming social orders unlinked to heredity.[32] Early political consolidations gave rise to the loose-knit Maurya and Gupta Empires based in the Ganges Basin.[33] Their collective era was suffused with wide-ranging creativity,[34] but also marked by the declining status of women,[35] and the incorporation of untouchability into an organised system of belief.[l][36] The Middle kingdoms exported Sanskrit language, south Indian scripts and religions of Hinduism and Buddhism to the Southeast Asia.[37]'''"
   ]
  },
  {
   "cell_type": "code",
   "execution_count": null,
   "metadata": {},
   "outputs": [
    {
     "data": {
      "text/plain": [
       "'India, officially the Republic of India,[j][20] is a country in South Asia. It is the seventh-largest country in the world by area and the most populous country. Bounded by the Indian Ocean on the south, the Arabian Sea on the southwest, and the Bay of Bengal on the southeast, it shares land borders with Pakistan to the west;[k] China, Nepal, and Bhutan to the north; and Bangladesh and Myanmar to the east. In the Indian Ocean, India is in the vicinity of Sri Lanka and the Maldives; its Andaman and Nicobar Islands share a maritime border with Thailand, Myanmar, and Indonesia.\\n\\nModern humans arrived on the Indian subcontinent from Africa no later than 55,000 years ago.[22][23][24] Their long occupation, initially in varying forms of isolation as hunter-gatherers, has made the region highly diverse, second only to Africa in human genetic diversity.[25] Settled life emerged on the subcontinent in the western margins of the Indus river basin 9,000 years ago, evolving gradually into the Indus Valley Civilisation of the third millennium BCE.[26] By at least 1200 BCE, an archaic form of Sanskrit, an Indo-European language, had diffused into India from the northwest.[27][28] Its evidence today is found in the hymns of the Rigveda. Preserved by an oral tradition that was resolutely vigilant, the Rigveda records the dawning of Hinduism in India.[29] The Dravidian languages of India were supplanted in the northern and western regions.[30] By 400 BCE, stratification and exclusion by caste had emerged within Hinduism,[31] and Buddhism and Jainism had arisen, proclaiming social orders unlinked to heredity.[32] Early political consolidations gave rise to the loose-knit Maurya and Gupta Empires based in the Ganges Basin.[33] Their collective era was suffused with wide-ranging creativity,[34] but also marked by the declining status of women,[35] and the incorporation of untouchability into an organised system of belief.[l][36] The Middle kingdoms exported Sanskrit language, south Indian scripts and religions of Hinduism and Buddhism to the Southeast Asia.[37]'"
      ]
     },
     "execution_count": 36,
     "metadata": {},
     "output_type": "execute_result"
    }
   ],
   "source": [
    "India"
   ]
  },
  {
   "cell_type": "code",
   "execution_count": null,
   "metadata": {},
   "outputs": [],
   "source": [
    "sen=sent_tokenize(India)"
   ]
  },
  {
   "cell_type": "code",
   "execution_count": null,
   "metadata": {},
   "outputs": [
    {
     "name": "stdout",
     "output_type": "stream",
     "text": [
      "[1, 3, 9, 3, 1, 1, 5, 1, 2, 2, 1, 0, 2, 2, 1, 0]\n"
     ]
    }
   ],
   "source": [
    "\n",
    "x=[]\n",
    "for i in sen:\n",
    "    count=0\n",
    "    for j in i.split(' '):\n",
    "        if j=='the':\n",
    "            count+=1\n",
    "    x.append(count) \n",
    "    \n",
    "# maximum=max(x)   \n",
    "print(x)\n",
    "        \n",
    "        "
   ]
  },
  {
   "cell_type": "code",
   "execution_count": null,
   "metadata": {},
   "outputs": [
    {
     "ename": "TypeError",
     "evalue": "'list' object is not callable",
     "output_type": "error",
     "traceback": [
      "\u001b[1;31m---------------------------------------------------------------------------\u001b[0m",
      "\u001b[1;31mTypeError\u001b[0m                                 Traceback (most recent call last)",
      "\u001b[1;32m<ipython-input-57-100d3ce1aff9>\u001b[0m in \u001b[0;36m<module>\u001b[1;34m\u001b[0m\n\u001b[1;32m----> 1\u001b[1;33m \u001b[0mmax\u001b[0m\u001b[1;33m=\u001b[0m \u001b[0mx\u001b[0m\u001b[1;33m.\u001b[0m\u001b[0mindex\u001b[0m\u001b[1;33m(\u001b[0m\u001b[0mmax\u001b[0m\u001b[1;33m(\u001b[0m\u001b[0mx\u001b[0m\u001b[1;33m)\u001b[0m\u001b[1;33m)\u001b[0m\u001b[1;33m\u001b[0m\u001b[1;33m\u001b[0m\u001b[0m\n\u001b[0m\u001b[0;32m      2\u001b[0m \u001b[0mmax_value\u001b[0m \u001b[1;33m=\u001b[0m \u001b[0mmax\u001b[0m\u001b[1;33m(\u001b[0m\u001b[0mx\u001b[0m\u001b[1;33m)\u001b[0m  \u001b[1;31m# Use max() to find the maximum value\u001b[0m\u001b[1;33m\u001b[0m\u001b[1;33m\u001b[0m\u001b[0m\n\u001b[0;32m      3\u001b[0m \u001b[0mmax_index\u001b[0m \u001b[1;33m=\u001b[0m \u001b[0mx\u001b[0m\u001b[1;33m.\u001b[0m\u001b[0mindex\u001b[0m\u001b[1;33m(\u001b[0m\u001b[0mmax_value\u001b[0m\u001b[1;33m)\u001b[0m  \u001b[1;31m# Use index() to find the index of the max value\u001b[0m\u001b[1;33m\u001b[0m\u001b[1;33m\u001b[0m\u001b[0m\n\u001b[0;32m      4\u001b[0m \u001b[1;33m\u001b[0m\u001b[0m\n\u001b[0;32m      5\u001b[0m \u001b[0mprint\u001b[0m\u001b[1;33m(\u001b[0m\u001b[0mmax_value\u001b[0m\u001b[1;33m,\u001b[0m \u001b[0mmax_index\u001b[0m\u001b[1;33m)\u001b[0m\u001b[1;33m\u001b[0m\u001b[1;33m\u001b[0m\u001b[0m\n",
      "\u001b[1;31mTypeError\u001b[0m: 'list' object is not callable"
     ]
    }
   ],
   "source": []
  },
  {
   "cell_type": "code",
   "execution_count": null,
   "metadata": {},
   "outputs": [],
   "source": []
  },
  {
   "cell_type": "code",
   "execution_count": null,
   "metadata": {},
   "outputs": [],
   "source": []
  }
 ],
 "metadata": {
  "kernelspec": {
   "display_name": "Python 3",
   "language": "python",
   "name": "python3"
  },
  "language_info": {
   "codemirror_mode": {
    "name": "ipython",
    "version": 3
   },
   "file_extension": ".py",
   "mimetype": "text/x-python",
   "name": "python",
   "nbconvert_exporter": "python",
   "pygments_lexer": "ipython3",
   "version": "3.9.13"
  }
 },
 "nbformat": 4,
 "nbformat_minor": 4
}
